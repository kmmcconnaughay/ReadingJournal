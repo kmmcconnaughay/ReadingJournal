{
 "cells": [
  {
   "cell_type": "markdown",
   "metadata": {},
   "source": [
    "# Day 1 Reading Journal\n",
    "\n",
    "Hi everyone.  These are the exercises for the first set of readings from ThinkPython.  While this journal consists of several required exercises, it is meant to encourage active reading more generally.  You should use this journal to take detailed notes, catalog questions, and explore the content from ThinkPython deeply.\n",
    "\n",
    "For more information on using the Jupyter notebook, check out the documentation [here](https://www.datacamp.com/community/tutorials/tutorial-jupyter-notebook##UseJupyter).\n",
    "\n",
    "Additionally, in order to write text in this document, you will be making use of Markdown cells. A handy cheatsheet for Markdown is available [here](https://github.com/adam-p/markdown-here/wiki/Markdown-Cheatsheet)."
   ]
  },
  {
   "cell_type": "markdown",
   "metadata": {},
   "source": [
    "## Chapter 1\n",
    "\n",
    "Note: the exercise numbers below match up with the reading for ease of cross referencing."
   ]
  },
  {
   "cell_type": "markdown",
   "metadata": {
    "collapsed": true
   },
   "source": [
    "*Program:* sequence of instructions that specifies how to perform a computation\n",
    "\n",
    "\n"
   ]
  },
  {
   "cell_type": "markdown",
   "metadata": {},
   "source": [
    "### Exercise 1.4\n",
    "\n",
    "Start the Python interpreter and use it as a simple calculator. Python’s syntax for math operations is almost the same as standard mathematical notation. For example, the symbols +, - and / denote addition, subtraction and division, as you would expect. The symbol for multiplication is *\n",
    "\n",
    "* How many seconds are there in 42 minutes 42 seconds?\n",
    "* How many miles are there in 10 kilometers? Hint: there are 1.61 kilometers in a mile.\n",
    "* If you run a 10 kilometer race in 42 minutes 42 seconds, what is your average pace (time per mile in minutes and seconds)? What is your average speed in miles per hour?\n",
    "\n",
    "Please use the following markdown cell to provide your answers."
   ]
  },
  {
   "cell_type": "code",
   "execution_count": 4,
   "metadata": {
    "collapsed": false
   },
   "outputs": [
    {
     "name": "stdout",
     "output_type": "stream",
     "text": [
      "2562\n",
      "6.211180124223602\n",
      "6.874700000000002\n",
      "412.482\n",
      "8.727653570337614\n"
     ]
    }
   ],
   "source": [
    "print ((42*60) + 42) #number of seconds\n",
    "print (10/1.61) #miles in 10 kilometers\n",
    "print ((42 + (42/60))/(10/1.61)) #minutes per mile\n",
    "print ((42*60 + 42)/(10/1.61)) #seconds per mile\n",
    "print ((10/1.61)/((42/60) +(42/3600))) #miles per hour\n"
   ]
  },
  {
   "cell_type": "markdown",
   "metadata": {},
   "source": [
    "### Section 1.3 \n",
    "-*Print Statement:* write print('words') or print(numbers/math)\n",
    "\n",
    "### Section 1.5 \n",
    "-Type(value) gives you the kind of value something is (integer, floating-point number, or string)\n",
    "-Things in '' are strings\n",
    "\n",
    "### Section 1.6\n",
    "-**Tokens** are basic elements of a language (words, numbers, etc.)\n",
    "-*Floating-point:* a type that represents numbers with fractional parts\n",
    "\n"
   ]
  },
  {
   "cell_type": "markdown",
   "metadata": {},
   "source": []
  },
  {
   "cell_type": "markdown",
   "metadata": {},
   "source": [
    "## Chapter 2"
   ]
  },
  {
   "cell_type": "markdown",
   "metadata": {},
   "source": [
    "*Expression:* a combination of values, variables, and operators\n",
    "-Script contains sequences of elements\n",
    "*String concantenation:* join strings by linking them end to end \n",
    "..* first = 'throat'\n",
    "..* second = 'warbler'\n",
    "..* first + second\n",
    "..* throatwarbler\n",
    "-the * operator works on strings"
   ]
  },
  {
   "cell_type": "markdown",
   "metadata": {},
   "source": [
    "### Exercise\n",
    "\n",
    "Assume that we execute the following assignment statements:\n",
    "\n",
    "```\n",
    "width = 17\n",
    "height = 12.0\n",
    "delimiter = '.'\n",
    "```\n",
    "\n",
    "For each of the following expressions, write the value of the expression and the type (of the value of the expression).\n",
    "\n",
    "Example: `width * 2` <br/>\n",
    "Answer: 34, integer\n",
    "\n",
    "1. `width/2`\n",
    "2. `width/2.0`\n",
    "3. `height/3`\n",
    "4. `1 + 2 * 5`\n",
    "5. `delimiter * 5`\n",
    "\n",
    "Please use the following markdown cell to provide your answer."
   ]
  },
  {
   "cell_type": "code",
   "execution_count": 5,
   "metadata": {
    "collapsed": false
   },
   "outputs": [],
   "source": [
    "width = 17\n",
    "height = 12.0\n",
    "delimiter = '.'\n"
   ]
  },
  {
   "cell_type": "markdown",
   "metadata": {},
   "source": [
    "1. 8.5\n",
    "2. 8.5\n",
    "3. 4.0\n",
    "4. 11\n",
    "5. .....\n"
   ]
  },
  {
   "cell_type": "markdown",
   "metadata": {},
   "source": [
    "### Exercise 2.2\n",
    "\n",
    "Practice using the Python interpreter as a calculator.  For each of these provide Python code that computes each answer."
   ]
  },
  {
   "cell_type": "markdown",
   "metadata": {},
   "source": [
    "The volume of a sphere with radius r is $4/3 \\pi  r^3$. What is the volume of a sphere with radius 5? <br />\n",
    "Hint: 392.7 is wrong! You can approximate pi with 3.14 or import it through the Python math library."
   ]
  },
  {
   "cell_type": "code",
   "execution_count": 6,
   "metadata": {
    "collapsed": false
   },
   "outputs": [
    {
     "name": "stdout",
     "output_type": "stream",
     "text": [
      "523.3333333333334\n"
     ]
    }
   ],
   "source": [
    "radius = 5\n",
    "volumeSphere = (4/3) * (3.14) * (radius**3) \n",
    "print(volumeSphere) #volume in units cubed\n"
   ]
  },
  {
   "cell_type": "markdown",
   "metadata": {},
   "source": [
    "Suppose the cover price of a book is \\$24.95, but bookstores get a 40% discount. Shipping costs \\$3 for the first copy and 75 cents for each additional copy. What is the total wholesale cost for 60 copies?"
   ]
  },
  {
   "cell_type": "code",
   "execution_count": 1,
   "metadata": {
    "collapsed": false
   },
   "outputs": [
    {
     "name": "stdout",
     "output_type": "stream",
     "text": [
      "926.55\n"
     ]
    }
   ],
   "source": [
    "c = 60 #copies of books ordered\n",
    "priceBook = 24.95*c #dollars\n",
    "discount = .60\n",
    "shippingCost = 3 + (0.75*(c-1)) #c is number of copies\n",
    "\n",
    "totalCost = (priceBook + shippingCost) * discount #dollars\n",
    "print(totalCost)"
   ]
  },
  {
   "cell_type": "markdown",
   "metadata": {},
   "source": [
    "If I leave my house at 6:52 am and run 1 mile at an easy pace (8:15 per mile), then 3 miles at tempo (7:12 per mile) and 1 mile at easy pace again, what time do I get home for breakfast? "
   ]
  },
  {
   "cell_type": "code",
   "execution_count": 11,
   "metadata": {
    "collapsed": false
   },
   "outputs": [
    {
     "name": "stdout",
     "output_type": "stream",
     "text": [
      "7.501666666666667\n"
     ]
    }
   ],
   "source": [
    "easyPace = 8.25 #time of mile in minutes\n",
    "tempo = 7.2 #time of mile in minutes\n",
    " \n",
    "time = (2 * easyPace) + (3 * tempo)\n",
    "startTime = (6 * 60) +52\n",
    "\n",
    "finalMinutes = time + startTime\n",
    "finalTime = finalMinutes/60\n",
    "print(finalTime)\n",
    "\n",
    "#gets back for breakfast at 7:30"
   ]
  },
  {
   "cell_type": "markdown",
   "metadata": {},
   "source": [
    "## Chapter 3"
   ]
  },
  {
   "cell_type": "markdown",
   "metadata": {},
   "source": [
    "-Functions have a header that ends with a colon \n",
    "-The body is indented with four spaces\n",
    "-The strings in print statements are enclosed in double quotes i.e. ''\n",
    "-Enter an **empty line to end** the function"
   ]
  },
  {
   "cell_type": "markdown",
   "metadata": {},
   "source": [
    "### Exercise 3.1\n",
    "\n",
    "Write a function named `right_justify` that takes a string named s as a parameter and prints the string with enough leading spaces so that the last letter of the string is in column 70 of the display.\n",
    "\n",
    "```\n",
    ">>> right_justify('monty')\n",
    "                                                                 monty\n",
    "```\n",
    "Hint: Use string concatenation and repetition. Also, Python provides a built-in function called `len` that returns the length of a string, so the value of `len('monty')` is 5."
   ]
  },
  {
   "cell_type": "code",
   "execution_count": 35,
   "metadata": {
    "collapsed": false
   },
   "outputs": [
    {
     "name": "stdout",
     "output_type": "stream",
     "text": [
      "                                                                     kerry\n"
     ]
    }
   ],
   "source": [
    "def right_justify(s):\n",
    "    string = len('s')\n",
    "    space = ' '\n",
    "    print(((70-string)*space) + s)\n",
    "    \n",
    "\n",
    "right_justify('kerry')"
   ]
  },
  {
   "cell_type": "markdown",
   "metadata": {},
   "source": [
    "### Exercise 3.3\n",
    "\n",
    "Note: This exercise should be done using only the statements and other features we have learned so far.\n",
    "\n",
    "1\\. Write a function that draws a grid like the following:\n",
    "\n",
    "```\n",
    "+ - - - - + - - - - +\n",
    "|         |         |\n",
    "|         |         |\n",
    "|         |         |\n",
    "|         |         |\n",
    "+ - - - - + - - - - +\n",
    "|         |         |\n",
    "|         |         |\n",
    "|         |         |\n",
    "|         |         |\n",
    "+ - - - - + - - - - +\n",
    "```\n",
    "Note: There are four empty spaces between the vertical bars.\n",
    "\n",
    "To print more than one value on a line, you can print a comma-separated sequence of values:\n",
    "\n",
    "```\n",
    "print('+', '-')\n",
    "```\n",
    "\n",
    "By default, `print` advances to the next line, but you can override that behavior and put a space at the end, like this:\n",
    "\n",
    "```\n",
    "print('+', end=' ')\n",
    "print('-')\n",
    "```\n",
    "\n",
    "The output of these statements is '+ -'.\n",
    "\n",
    "A `print` statement with no argument ends the current line and goes to the next line."
   ]
  },
  {
   "cell_type": "code",
   "execution_count": 28,
   "metadata": {
    "collapsed": false,
    "scrolled": true
   },
   "outputs": [
    {
     "name": "stdout",
     "output_type": "stream",
     "text": [
      "+ - - - -  + - - - -  + \n",
      "|          |          | \n",
      "|          |          | \n",
      "|          |          | \n",
      "|          |          | \n",
      "+ - - - -  + - - - -  + \n",
      "|          |          | \n",
      "|          |          | \n",
      "|          |          | \n",
      "|          |          | \n",
      "+ - - - -  + - - - -  + \n"
     ]
    }
   ],
   "source": [
    "def grid_symbols():\n",
    "    print('+', 4*'- ', '+', 4*'- ', '+', end =' ')\n",
    "    print()\n",
    "    print('|', 8*' ', '|', 8*' ', '|', end =' ')\n",
    "    print()\n",
    "    print('|', 8*' ', '|', 8*' ', '|', end =' ')\n",
    "    print()\n",
    "    print('|', 8*' ', '|', 8*' ', '|', end =' ')\n",
    "    print()\n",
    "    print('|', 8*' ', '|', 8*' ', '|', end =' ')\n",
    "    print()\n",
    "    print('+', 4*'- ', '+', 4*'- ', '+', end =' ')\n",
    "    print()\n",
    "    print('|', 8*' ', '|', 8*' ', '|', end =' ')\n",
    "    print()\n",
    "    print('|', 8*' ', '|', 8*' ', '|', end =' ')\n",
    "    print()\n",
    "    print('|', 8*' ', '|', 8*' ', '|', end =' ')\n",
    "    print()\n",
    "    print('|', 8*' ', '|', 8*' ', '|', end =' ')\n",
    "    print()\n",
    "    print('+', 4*'- ', '+', 4*'- ', '+', end =' ')\n",
    "    print()\n",
    "    \n",
    "grid_symbols()"
   ]
  },
  {
   "cell_type": "markdown",
   "metadata": {},
   "source": [
    "2\\. Write a function that draws a similar grid with four rows and four columns."
   ]
  },
  {
   "cell_type": "code",
   "execution_count": 30,
   "metadata": {
    "collapsed": false
   },
   "outputs": [
    {
     "name": "stdout",
     "output_type": "stream",
     "text": [
      "+ - - - -  + - - - -  + - - - -  + \n",
      "|          |          |          | \n",
      "|          |          |          | \n",
      "|          |          |          | \n",
      "|          |          |          | \n",
      "+ - - - -  + - - - -  + - - - -  + \n",
      "|          |          |          | \n",
      "|          |          |          | \n",
      "|          |          |          | \n",
      "|          |          |          | \n",
      "+ - - - -  + - - - -  + - - - -  + \n",
      "|          |          |          | \n",
      "|          |          |          | \n",
      "|          |          |          | \n",
      "|          |          |          | \n",
      "+ - - - -  + - - - -  + - - - -  + \n"
     ]
    }
   ],
   "source": [
    "def larger_grid_symbols():\n",
    "    print('+', 4*'- ', '+', 4*'- ', '+', 4*'- ', '+', end =' ')\n",
    "    print()\n",
    "    print('|', 8*' ', '|', 8*' ', '|', 8*' ', '|', end =' ')\n",
    "    print()\n",
    "    print('|', 8*' ', '|', 8*' ', '|', 8*' ', '|', end =' ')\n",
    "    print()\n",
    "    print('|', 8*' ', '|', 8*' ', '|', 8*' ', '|', end =' ')\n",
    "    print()\n",
    "    print('|', 8*' ', '|', 8*' ', '|', 8*' ', '|', end =' ')\n",
    "    print()\n",
    "    print('+', 4*'- ', '+', 4*'- ', '+', 4*'- ', '+', end =' ')\n",
    "    print()\n",
    "    print('|', 8*' ', '|', 8*' ', '|', 8*' ', '|', end =' ')\n",
    "    print()\n",
    "    print('|', 8*' ', '|', 8*' ', '|', 8*' ', '|',end =' ')\n",
    "    print()\n",
    "    print('|', 8*' ', '|', 8*' ', '|', 8*' ', '|',end =' ')\n",
    "    print()\n",
    "    print('|', 8*' ', '|', 8*' ', '|', 8*' ', '|',end =' ')\n",
    "    print()\n",
    "    print('+', 4*'- ', '+', 4*'- ', '+', 4*'- ', '+', end =' ')\n",
    "    print()\n",
    "    print('|', 8*' ', '|', 8*' ', '|', 8*' ', '|', end =' ')\n",
    "    print()\n",
    "    print('|', 8*' ', '|', 8*' ', '|', 8*' ', '|',end =' ')\n",
    "    print()\n",
    "    print('|', 8*' ', '|', 8*' ', '|', 8*' ', '|',end =' ')\n",
    "    print()\n",
    "    print('|', 8*' ', '|', 8*' ', '|', 8*' ', '|',end =' ')\n",
    "    print()\n",
    "    print('+', 4*'- ', '+', 4*'- ', '+', 4*'- ', '+', end =' ')\n",
    "    print()\n",
    "    \n",
    "larger_grid_symbols()"
   ]
  },
  {
   "cell_type": "markdown",
   "metadata": {},
   "source": [
    "*Stack diagrams:* show the value of each variable and the function each variable belongs to \n",
    "-Helpful to use these to keep track of which variables can be used where\n",
    "*Frame:* a box with the name of a function beside it and the paramters and variables of the function inside it\n",
    "-Frames are stacked to show which function called which\n",
    "-Variable created outside of any function belongs to **__main__**\n",
    "*Fruitful functions:* return results\n",
    "*Void functions:* perform an action but do not return a value\n",
    "*Dot notation:* write a module name with a period after it and the function name to call it "
   ]
  },
  {
   "cell_type": "markdown",
   "metadata": {},
   "source": [
    "## Chapter 5.1 - 5.7"
   ]
  },
  {
   "cell_type": "markdown",
   "metadata": {},
   "source": [
    "### Exercise 5.2\n",
    "**//** divides two numbers and rounds down to an integer\n",
    "**%** divides two numbers and returns the remainder\n",
    "*Boolean expression:* an expression that is either true or false\n",
    "**==** compares two operands and produces *True* if they are equal and *False* otherwise\n",
    "-*not* negates a boolean expression, i.e. not (x > y) is *True* if x > y is false\n",
    "\n",
    "-*Pass* does nothing and can fill the body of a conditional statement\n",
    "-There are **if** statements, **if, else** statements, and **ELIF**, which is an abbreviation for \"else if\"\n"
   ]
  },
  {
   "cell_type": "markdown",
   "metadata": {},
   "source": [
    "### Exercise 2\n",
    "\n",
    "Fermat’s Last Theorem says that there are no positive integers $a$, $b$, and $c$ such that $$a^n + b^n = c^n$$ for any values of $n$ greater than 2.\n",
    "\n",
    "1\\. Write a function named `check_fermat` that takes four parameters – $a$, $b$, $c$ and $n$ – and that checks to see if Fermat’s theorem holds. If n is greater than 2 and it turns out to be true that\n",
    "$a^n + b^n = c^n$, then the program should print: \"Holy smokes, Fermat was wrong!\" Otherwise the program should print: \"No, that doesn’t work.\""
   ]
  },
  {
   "cell_type": "code",
   "execution_count": 2,
   "metadata": {
    "collapsed": false
   },
   "outputs": [
    {
     "name": "stdout",
     "output_type": "stream",
     "text": [
      "No, that does not work.\n"
     ]
    }
   ],
   "source": [
    "def check_fermat(a, b, c, n):\n",
    "    if n > 2 and (a**n) + (b**n) == c**n:\n",
    "        print('Holy smokes, Fermat was wrong!')\n",
    "    else:\n",
    "        print('No, that does not work.')\n",
    "        \n",
    "check_fermat(3, 3, 4, 3)"
   ]
  },
  {
   "cell_type": "markdown",
   "metadata": {},
   "source": [
    "2\\. Write a function that prompts the user to input values for $a$, $b$, $c$ and $n$, converts them to integers, and uses `check_fermat` to check whether they violate Fermat’s theorem."
   ]
  },
  {
   "cell_type": "code",
   "execution_count": 16,
   "metadata": {
    "collapsed": false
   },
   "outputs": [
    {
     "name": "stdout",
     "output_type": "stream",
     "text": [
      "Choose values for a, b, c, and n\n",
      "a: 0\n",
      "b: 2\n",
      "c: 2\n",
      "n: 2\n",
      "No, that does not work.\n"
     ]
    }
   ],
   "source": [
    "def input_values():\n",
    "    print('Choose values for a, b, c, and n')\n",
    "    a = int(input('a: '))\n",
    "    b = int(input('b: '))\n",
    "    c = int(input('c: '))\n",
    "    n = int(input('n: '))\n",
    "    \n",
    "    check_fermat(a, b, c, n)\n",
    "    \n",
    "input_values()"
   ]
  },
  {
   "cell_type": "markdown",
   "metadata": {},
   "source": [
    "### Exercise 5.3 \n",
    "\n",
    "If you are given three sticks, you may or may not be able to arrange them in a triangle. For example, if one of the sticks is 12 inches long and the other two are one inch long, it is clear that you will not be able to get the short sticks to meet in the middle. For any three lengths, there is a simple test to see if it is possible to form a triangle:\n",
    "> If any of the three lengths is greater than the sum of the other two, then you cannot form a triangle. Otherwise, you can. (If the sum of two lengths equals the third, they form what is called a “degenerate” triangle.)\n",
    "\n",
    "1\\. Write a function named `is_triangle` that takes three integers as arguments, and that prints either \"Yes\" or \"No,\" depending on whether you can or cannot form a triangle from sticks with the given lengths."
   ]
  },
  {
   "cell_type": "code",
   "execution_count": 21,
   "metadata": {
    "collapsed": false
   },
   "outputs": [
    {
     "name": "stdout",
     "output_type": "stream",
     "text": [
      "Yes\n"
     ]
    }
   ],
   "source": [
    "def is_triangle(one, two, three):\n",
    "    if one > two + three or two > one + three or three > one + two:\n",
    "        print('No')\n",
    "    else:\n",
    "        print('Yes')\n",
    "        \n",
    "is_triangle(4, 5, 3)"
   ]
  },
  {
   "cell_type": "markdown",
   "metadata": {},
   "source": [
    "2\\. Write a function that prompts the user to input three stick lengths, converts them to integers, and uses `is_triangle` to check whether sticks with the given lengths can form a triangle."
   ]
  },
  {
   "cell_type": "code",
   "execution_count": 24,
   "metadata": {
    "collapsed": false
   },
   "outputs": [
    {
     "name": "stdout",
     "output_type": "stream",
     "text": [
      "Choose values for the sides of a triangle\n",
      "First side: 3\n",
      "Second side: 2\n",
      "Third side: 1\n",
      "Yes\n"
     ]
    }
   ],
   "source": [
    "def make_triangle():\n",
    "    print('Choose values for the sides of a triangle')\n",
    "    one = int(input('First side: '))\n",
    "    two = int(input('Second side: '))\n",
    "    three = int(input('Third side: '))\n",
    "    \n",
    "    is_triangle(one, two, three)\n",
    "    \n",
    "make_triangle()"
   ]
  },
  {
   "cell_type": "markdown",
   "metadata": {},
   "source": [
    "## Quick poll\n",
    "About how long did you spend working on this Reading Journal?"
   ]
  },
  {
   "cell_type": "markdown",
   "metadata": {},
   "source": [
    "I spent around 3.5 hours because it took time for me to figure out how to actually use the Reading Journal."
   ]
  },
  {
   "cell_type": "markdown",
   "metadata": {},
   "source": [
    "## Notes for the Instructors\n",
    "\n",
    "Please use the space below to write comments to help us plan the next class session.  For instance, if you want to see us go over an example of a particular type of problem, you can indicate that here.\n",
    "\n",
    "Please remember that the best way to get quick feedback from the instructors as well as your peers, is to use Piazza.  However, consider using this channel if it doesn't make sense to post your note to Piazza."
   ]
  },
  {
   "cell_type": "markdown",
   "metadata": {},
   "source": [
    "I think it would be useful to go over Exercise 5 because I get the general idea of it, but I want to make sure I really understand the commands and syntax necessary for that kind of problem. Also, I was unclear on the phrasing of the second part of that exercise.  Rows and columns as in the lines or the actual boxes the grid makes?"
   ]
  }
 ],
 "metadata": {
  "kernelspec": {
   "display_name": "Python 3",
   "language": "python",
   "name": "python3"
  },
  "language_info": {
   "codemirror_mode": {
    "name": "ipython",
    "version": 3
   },
   "file_extension": ".py",
   "mimetype": "text/x-python",
   "name": "python",
   "nbconvert_exporter": "python",
   "pygments_lexer": "ipython3",
   "version": "3.5.2"
  }
 },
 "nbformat": 4,
 "nbformat_minor": 0
}
