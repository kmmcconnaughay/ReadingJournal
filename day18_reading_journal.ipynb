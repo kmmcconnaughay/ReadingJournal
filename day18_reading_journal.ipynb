{
 "cells": [
  {
   "cell_type": "markdown",
   "metadata": {},
   "source": [
    "# Day 18 Reading Journal\n",
    "\n",
    "This journal includes several required exercises, but it is meant to encourage active reading more generally.  You should use the journal to take detailed notes, catalog questions, and explore the content from Think Python deeply.\n",
    "\n",
    "Reading: Think Python Chapter 19\n",
    "\n",
    "**Due: Monday, April 3 at 12 noon**\n"
   ]
  },
  {
   "cell_type": "markdown",
   "metadata": {},
   "source": [
    "## [Chapter 19](http://greenteapress.com/thinkpython2/html/thinkpython2020.html)\n",
    "\n",
    "This reading is \"the goodies\" - all the cool Python features that aren't strictly necessary but can make your code more concise, readable, and/or efficient.\n",
    "\n",
    "You can read any of the sections you like, but we particularly recommend sections 2, 5, 9."
   ]
  },
  {
   "cell_type": "markdown",
   "metadata": {},
   "source": [
    "### List Comprehensions\n",
    "- **List comprehension:** an expression with a for loop in square brackets that yields a new list  \n",
    "- In list comprehension, brackets still indicate a new list  \n",
    "- Can put for statements in the brackets  \n",
    "- Example of returning only uppercase elements of t in box below "
   ]
  },
  {
   "cell_type": "code",
   "execution_count": 1,
   "metadata": {
    "collapsed": true
   },
   "outputs": [],
   "source": [
    "def only_upper(t):  \n",
    "    return [s for s in t if s.isupper()]  \n"
   ]
  },
  {
   "cell_type": "markdown",
   "metadata": {},
   "source": [
    "### Sets\n",
    "- Python provides a built-in type called a *set* that behaves like a *collection of dictionary keys* with no values  \n",
    "- Can use methods and operators to compute common set operations  \n",
    "- An element can only appear in a set *once*  \n"
   ]
  },
  {
   "cell_type": "markdown",
   "metadata": {},
   "source": [
    "### Named Tuples  \n",
    "- Many simple objects are basically collections of related values  \n",
    "- Example of naming a tuple in the box below  \n",
    "- **First Argument:** name of the *class* you want to create  \n",
    "- **Second Argument:** list of *attributes* the object should have as *strings*  \n",
    "- The return value from the box below is a class object  \n",
    "- You can also treat a named tuple as a tuple  \n",
    "- Named tuples make it easy to define *simple* classes  "
   ]
  },
  {
   "cell_type": "code",
   "execution_count": 10,
   "metadata": {
    "collapsed": false
   },
   "outputs": [
    {
     "name": "stdout",
     "output_type": "stream",
     "text": [
      "Point(x=1, y=2)\n",
      "1 2\n"
     ]
    }
   ],
   "source": [
    "from collections import namedtuple\n",
    "Point = namedtuple('Point', ['x', 'y'])\n",
    "\n",
    "p = Point(1, 2)\n",
    "print(p)\n",
    "\n",
    "print(p[0], p[1])\n"
   ]
  },
  {
   "cell_type": "markdown",
   "metadata": {},
   "source": [
    "### Gathering Keyword Args  \n",
    "- You can call *printall()* with any number of positional arguments (arguments that don't have keywords)  \n",
    "- To gather keyword arguments, you use **two asterisks** as the operator  \n",
    "- Example is in box below. The result of the function is a dictionary that maps keywords to values  "
   ]
  },
  {
   "cell_type": "code",
   "execution_count": 12,
   "metadata": {
    "collapsed": false
   },
   "outputs": [
    {
     "name": "stdout",
     "output_type": "stream",
     "text": [
      "(1, 2.5) {'third': '3'}\n"
     ]
    }
   ],
   "source": [
    "def printall(*args, **kwargs):\n",
    "    print(args, kwargs)\n",
    "\n",
    "printall(1, 2.5, third = '3')"
   ]
  },
  {
   "cell_type": "markdown",
   "metadata": {
    "is_question": true,
    "problem": "Exercise 19.1"
   },
   "source": [
    "### Exercise 1  \n",
    "\n",
    "Rewrite the following functions using list comprehensions."
   ]
  },
  {
   "cell_type": "code",
   "execution_count": 3,
   "metadata": {
    "collapsed": false,
    "solution": "Exercise 19.1"
   },
   "outputs": [
    {
     "name": "stdout",
     "output_type": "stream",
     "text": [
      "**********************************************************************\n",
      "File \"__main__\", line 9, in __main__.formal_greeting\n",
      "Failed example:\n",
      "    formal_greeting(\"Jasper\", names)\n",
      "Exception raised:\n",
      "    Traceback (most recent call last):\n",
      "      File \"/usr/lib/python3.5/doctest.py\", line 1321, in __run\n",
      "        compileflags, 1), test.globs)\n",
      "      File \"<doctest __main__.formal_greeting[1]>\", line 1, in <module>\n",
      "        formal_greeting(\"Jasper\", names)\n",
      "      File \"<ipython-input-2-37abda95c69f>\", line 14, in formal_greeting\n",
      "        print(\"Hello, Professor {}!\".format(name_dict[first_name]))\n",
      "    KeyError: 'Jasper'\n",
      "**********************************************************************\n",
      "1 items had failures:\n",
      "   1 of   2 in __main__.formal_greeting\n",
      "***Test Failed*** 1 failures.\n"
     ]
    },
    {
     "data": {
      "text/plain": [
       "TestResults(failed=1, attempted=7)"
      ]
     },
     "execution_count": 3,
     "metadata": {},
     "output_type": "execute_result"
    }
   ],
   "source": [
    "def square(seq):\n",
    "    \"\"\"\n",
    "    Return a new list containing all the elements of 'seq'uence squared.\n",
    "    \n",
    "    >>> square([1, 2, 3])\n",
    "    [1, 4, 9]\n",
    "    >>> square([0, -5, 2.5])\n",
    "    [0, 25, 6.25]\n",
    "    >>> square([8, \"hello\", 10])\n",
    "    Traceback (most recent call last):\n",
    "      ...\n",
    "    TypeError: unsupported operand type(s) for ** or pow(): 'str' and 'int'\n",
    "    \"\"\"\n",
    "    result = []\n",
    "    for item in seq:\n",
    "        squared_value = item **2\n",
    "        result.append(squared_value)\n",
    "    return result\n",
    "\n",
    "def evens(seq):\n",
    "    \"\"\"\n",
    "    Return a new list containing only the elements of 'seq'uence that are even.\n",
    "    \n",
    "    >>> evens([1, 2, 3, 4])\n",
    "    [2, 4]\n",
    "    >>> evens(square(range(5)))\n",
    "    [0, 4, 16]\n",
    "    \"\"\"\n",
    "    result = []\n",
    "    for item in seq:\n",
    "        if item % 2 == 0:\n",
    "            result.append(item)\n",
    "    return result\n",
    "\n",
    "\n",
    "import doctest\n",
    "doctest.testmod()    "
   ]
  },
  {
   "cell_type": "code",
   "execution_count": 2,
   "metadata": {
    "collapsed": false
   },
   "outputs": [
    {
     "data": {
      "text/plain": [
       "TestResults(failed=0, attempted=5)"
      ]
     },
     "execution_count": 2,
     "metadata": {},
     "output_type": "execute_result"
    }
   ],
   "source": [
    "def square(seq):\n",
    "    \"\"\"\n",
    "    Return a new list containing all the elements of 'seq'uence squared.\n",
    "    \n",
    "    >>> square([1, 2, 3])\n",
    "    [1, 4, 9]\n",
    "    >>> square([0, -5, 2.5])\n",
    "    [0, 25, 6.25]\n",
    "    >>> square([8, \"hello\", 10])\n",
    "    Traceback (most recent call last):\n",
    "      ...\n",
    "    TypeError: unsupported operand type(s) for ** or pow(): 'str' and 'int'\n",
    "    \"\"\"\n",
    "    return [item**2 for item in seq]\n",
    "\n",
    "def evens(seq):\n",
    "    \"\"\"\n",
    "    Return a new list containing only the elements of 'seq'uence that are even.\n",
    "    \n",
    "    >>> evens([1, 2, 3, 4])\n",
    "    [2, 4]\n",
    "    >>> evens(square(range(5)))\n",
    "    [0, 4, 16]\n",
    "    \"\"\"\n",
    "    return [item for item in seq if item % 2 == 0]\n",
    "\n",
    "import doctest\n",
    "doctest.testmod()\n"
   ]
  },
  {
   "cell_type": "markdown",
   "metadata": {},
   "source": [
    "## [Exceptions](https://docs.python.org/3/tutorial/errors.html)\n",
    "\n",
    "Read about Exceptions in Python and how to handle them (through section 8.4).\n",
    "\n",
    "Advanced (optional): Check out [context managers](https://docs.python.org/3/reference/datamodel.html#context-managers) and the ['''with''' statement](https://www.python.org/dev/peps/pep-0343/)."
   ]
  },
  {
   "cell_type": "markdown",
   "metadata": {},
   "source": [
    "### Syntax Errors  \n",
    "- Parser repeats the offending line and displays a ^ pointing at the earliest point in the line where the error was detected  \n",
    "- Error is caused by the token *preceding* the arrow  \n",
    "- File name andd line number are printed so you know where to look  "
   ]
  },
  {
   "cell_type": "markdown",
   "metadata": {},
   "source": [
    "### Exceptions  \n",
    "- **Exceptions:** errors detected during execution  \n",
    "- Last of the error message indicates what happened  \n",
    "- Exceptions come in different types and the type is printed in the message  \n",
    "- For example, you could have **ZeroDivisionError, NameError, and TypeError**  \n",
    "- String printed as the exception type is the name of the built-in exception that occurred \n",
    "- Preceding part of the message shows the context where the exception happened  "
   ]
  },
  {
   "cell_type": "markdown",
   "metadata": {},
   "source": [
    "### Handing Exceptions  \n",
    "- **Try clause:** statement(s) between the *try* and *except* keywords  \n",
    "- First, the *try clause* is executed  \n",
    "- If no exception occurs, the *except clause* is skipped and execution of the *try* statement is finished  \n",
    "- If an exception occurs while executing the *try* clause, the rest of the clause is skipped  \n",
    "- If its type matches the exception named after the *except keyword*, the execution continues after the *try* statement  \n",
    "- If the type does not match, it is passed on to outer *try* statements  \n",
    "- If no handler is found, it is an *unhandled exception* and execution stops with a message as shown above  \n",
    "\n",
    "\n",
    "\n",
    "\n",
    "- *Try* statement can have more than one *except clause* but one handler at most will be executed  \n",
    "- A class in an *except clause* is compatible with an exception if it is the **same class or a base class thereof** (but NOT the other way around)  \n",
    "\n",
    "\n",
    "\n",
    "- **Optional *else clause*:** must follow all except clauses  \n",
    "- *Else clause* better than adding more code to the *try clause*  \n",
    "- Avoids catching an exception that wasn’t raised by the code being protected by the *try ... except statement*  \n",
    "\n",
    "\n",
    "- Exceptions with arguments are printed as the last part of the message for unhandled exceptions  "
   ]
  },
  {
   "cell_type": "markdown",
   "metadata": {},
   "source": [
    "### Raising Exception  \n",
    "- ***Raise* statement:** allows programmer to force a specified exception to occur  \n",
    "- One argument: indicates the exception to be raised  \n",
    "- You can re-raise an exception using code like below  "
   ]
  },
  {
   "cell_type": "code",
   "execution_count": 1,
   "metadata": {
    "collapsed": false
   },
   "outputs": [
    {
     "name": "stdout",
     "output_type": "stream",
     "text": [
      "An exception flew by!\n"
     ]
    },
    {
     "ename": "NameError",
     "evalue": "HiThere",
     "output_type": "error",
     "traceback": [
      "\u001b[0;31m---------------------------------------------------------------------------\u001b[0m",
      "\u001b[0;31mNameError\u001b[0m                                 Traceback (most recent call last)",
      "\u001b[0;32m<ipython-input-1-3f47609917d7>\u001b[0m in \u001b[0;36m<module>\u001b[0;34m()\u001b[0m\n\u001b[1;32m      1\u001b[0m \u001b[0;32mtry\u001b[0m\u001b[0;34m:\u001b[0m\u001b[0;34m\u001b[0m\u001b[0m\n\u001b[0;32m----> 2\u001b[0;31m     \u001b[0;32mraise\u001b[0m \u001b[0mNameError\u001b[0m\u001b[0;34m(\u001b[0m\u001b[0;34m'HiThere'\u001b[0m\u001b[0;34m)\u001b[0m\u001b[0;34m\u001b[0m\u001b[0m\n\u001b[0m\u001b[1;32m      3\u001b[0m \u001b[0;32mexcept\u001b[0m \u001b[0mNameError\u001b[0m\u001b[0;34m:\u001b[0m\u001b[0;34m\u001b[0m\u001b[0m\n\u001b[1;32m      4\u001b[0m     \u001b[0mprint\u001b[0m\u001b[0;34m(\u001b[0m\u001b[0;34m'An exception flew by!'\u001b[0m\u001b[0;34m)\u001b[0m\u001b[0;34m\u001b[0m\u001b[0m\n\u001b[1;32m      5\u001b[0m     \u001b[0;32mraise\u001b[0m\u001b[0;34m\u001b[0m\u001b[0m\n",
      "\u001b[0;31mNameError\u001b[0m: HiThere"
     ]
    }
   ],
   "source": [
    "try:\n",
    "    raise NameError('HiThere')\n",
    "except NameError:\n",
    "    print('An exception flew by!')\n",
    "    raise\n"
   ]
  },
  {
   "cell_type": "markdown",
   "metadata": {
    "is_question": true,
    "problem": "Exercise 19.2"
   },
   "source": [
    "### Exercise 2 \n",
    "\n",
    "Complete the following function using an exception handler. How else might you implement it?"
   ]
  },
  {
   "cell_type": "code",
   "execution_count": null,
   "metadata": {
    "collapsed": false,
    "solution": "Exercise 19.2"
   },
   "outputs": [],
   "source": [
    "names = {\"Paul\": \"Ruvolo\", \"Oliver\": \"Steele\", \"Ben\": \"Hill\"}\n",
    "\n",
    "def formal_greeting(first_name, name_dict):\n",
    "    \"\"\"\n",
    "    Greet SoftDes professors by last name, and strangers with some skepticism.\n",
    "    \n",
    "    >>> formal_greeting(\"Oliver\", names)\n",
    "    Hello, Professor Steele!\n",
    "    >>> formal_greeting(\"Jasper\", names)\n",
    "    Howdy, stranger!\n",
    "    \"\"\"\n",
    "    while True:\n",
    "        try:\n",
    "            print(\"Hello, Professor {}!\".format(name_dict[first_name]))\n",
    "            break\n",
    "        except KeyError:\n",
    "            print('The key you gave is not in your dictionary!')\n",
    "\n",
    "\n",
    "doctest.run_docstring_examples(formal_greeting, globals())    "
   ]
  },
  {
   "cell_type": "markdown",
   "metadata": {
    "poll_response": true,
    "solution": "Time spent"
   },
   "source": [
    " Why doesn't this exception handler work? Why is my kernel breaking?  "
   ]
  },
  {
   "cell_type": "markdown",
   "metadata": {
    "is_question": true,
    "problem": "Feedback"
   },
   "source": [
    "## Reading Journal feedback\n",
    "\n",
    "[Please complete this short survey](https://docs.google.com/forms/d/e/1FAIpQLScQekhUrf6YYjpfQiAAbavLIA-IJklv_PX1BWbGgxj7JPolmw/viewform?c=0&w=1)\n",
    "\n",
    "If you have any comments on this Reading Journal, feel free to leave them in the survey linked above. This could include suggestions to improve the exercises, topics you'd like to see covered in class next time, or other feedback.\n",
    "\n",
    "If you have Python questions or run into problems while completing the reading, you should post them to Piazza instead so you can get a quick response before your journal is submitted."
   ]
  },
  {
   "cell_type": "markdown",
   "metadata": {
    "feedback_response": true,
    "solution": "Feedback"
   },
   "source": [
    " "
   ]
  }
 ],
 "metadata": {
  "kernelspec": {
   "display_name": "Python 3",
   "language": "python",
   "name": "python3"
  },
  "language_info": {
   "codemirror_mode": {
    "name": "ipython",
    "version": 3
   },
   "file_extension": ".py",
   "mimetype": "text/x-python",
   "name": "python",
   "nbconvert_exporter": "python",
   "pygments_lexer": "ipython3",
   "version": "3.5.2"
  }
 },
 "nbformat": 4,
 "nbformat_minor": 0
}
