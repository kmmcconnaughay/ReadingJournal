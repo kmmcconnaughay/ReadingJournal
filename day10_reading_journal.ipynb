{
 "cells": [
  {
   "cell_type": "markdown",
   "metadata": {},
   "source": [
    "# Day 10 Reading Journal\n",
    "\n",
    "This journal includes several required exercises, but it is meant to encourage active reading more generally.  You should use the journal to take detailed notes, catalog questions, and explore the content from Think Python deeply.\n",
    "\n",
    "Reading: Review Think Python Chapters 15-17\n",
    "\n",
    "**Due: Thursday, February 23 at 12 noon**\n",
    "\n"
   ]
  },
  {
   "cell_type": "markdown",
   "metadata": {},
   "source": [
    "## [Chapter 15](http://www.greenteapress.com/thinkpython2/html/thinkpython2016.html), [Chapter 16](http://www.greenteapress.com/thinkpython2/html/thinkpython2017.html), [Chapter 17](http://www.greenteapress.com/thinkpython2/html/thinkpython2018.html)\n",
    "\n",
    "\n",
    "By the end of chapter 17, we have all the tools we need to create our own user-defined types known as classes. In this reading journal, we're asking you to review and solidify your understanding of this material so we can build on it for the rest of the course. \n",
    "\n",
    "If you didn't get a chance to fully complete the Day 9 reading journal, you may want to do so now."
   ]
  },
  {
   "cell_type": "markdown",
   "metadata": {
    "problem": "Terminology"
   },
   "source": [
    "### Terminology\n",
    "\n",
    "You should be familiar with the following list of terms and concepts. If any of them are unclear to you, re-read, ask, write a definition in your own words, and try an example if appropriate.\n",
    "\n",
    " - class\n",
    " - object\n",
    " - instance\n",
    " - attribute\n",
    " - method\n",
    " - shallow vs deep copying\n",
    " - pure functions vs modifiers\n",
    " - initializing object instances\n",
    " "
   ]
  },
  {
   "cell_type": "markdown",
   "metadata": {
    "is_question": true,
    "problem": "Exercise 1"
   },
   "source": [
    "### Exercise\n",
    "\n",
    "We're going to take the first steps toward writing a calendar application. To keep things simple, we'll restrict ourselves to a single day for now. Write an `Event` class with the following attributes:\n",
    "\n",
    " - `name`  : Title for the `Event`\n",
    " - `start` : `Time` object representing the start time for the `Event`\n",
    " - `end`   : `Time` object representing the end time for the `Event`\n",
    "\n",
    "You can also augment your `Event` class with additional attributes, such as location and attendees.\n",
    "\n",
    "Write `__init__` and `__str__` methods for your `Event` class."
   ]
  },
  {
   "cell_type": "code",
   "execution_count": 12,
   "metadata": {
    "collapsed": false,
    "solution": "Exercise 1"
   },
   "outputs": [
    {
     "name": "stdout",
     "output_type": "stream",
     "text": [
      "Birthday Party starts at 06:00 and ends at 09:00\n"
     ]
    }
   ],
   "source": [
    "class Event():\n",
    "    def __init__(self, name, startHour=0, startMinute=0, endHour=0,\n",
    "        endMinute=0):\n",
    "        self.name = name\n",
    "        self.startHour = startHour\n",
    "        self.startMinute = startMinute\n",
    "        self.endHour = endHour\n",
    "        self.endMinute = endMinute\n",
    "        \n",
    "    def __str__(self):\n",
    "        return ('%s starts at %.2d:%.2d and ends at %.2d:%.2d'\n",
    "        % (self.name, self.startHour, self.startMinute, self.endHour, self.endMinute))\n",
    "    \n",
    "event = Event('Birthday Party', 6, 0, 9, 0)\n",
    "print(event)"
   ]
  },
  {
   "cell_type": "markdown",
   "metadata": {
    "is_question": true,
    "problem": "Exercise 2"
   },
   "source": [
    "### Exercise\n",
    "\n",
    "Write a `duration` method that returns the duration of the `Event` in minutes."
   ]
  },
  {
   "cell_type": "code",
   "execution_count": 35,
   "metadata": {
    "collapsed": false
   },
   "outputs": [
    {
     "name": "stdout",
     "output_type": "stream",
     "text": [
      "Birthday Party starts at 06:00 and ends at 09:00\n",
      "Your event lasts for 180 minutes\n"
     ]
    }
   ],
   "source": [
    "class Event():\n",
    "    def __init__(self, name, startHour=0, startMinute=0, endHour=0,\n",
    "        endMinute=0):\n",
    "        self.name = name\n",
    "        self.startHour = startHour\n",
    "        self.startMinute = startMinute\n",
    "        self.endHour = endHour\n",
    "        self.endMinute = endMinute\n",
    "        \n",
    "    def int_to_time(seconds):\n",
    "        time = Time(0, 0, 0)\n",
    "        minutes, time.second\n",
    "        \n",
    "        \n",
    "    def __str__(self):\n",
    "        return ('%s starts at %.2d:%.2d and ends at %.2d:%.2d'\n",
    "        % (self.name, self.startHour, self.startMinute, self.endHour, self.endMinute))\n",
    "    \n",
    "    def duration(self, startHour, startMinute, endHour, endMinute):\n",
    "        startMinutes = startHour * 60\n",
    "        endMinutes = endHour * 60\n",
    "        startTotal = startMinutes + startMinute\n",
    "        endTotal = endMinutes + endMinute\n",
    "        duration = endTotal - startTotal\n",
    "        return ('Your event lasts for %.2d minutes' % (duration))\n",
    "\n",
    "event = Event('Birthday Party', 6, 0, 9, 0)\n",
    "print(event)\n",
    "duration = event.duration(6, 0, 9, 0)\n",
    "print(duration)"
   ]
  },
  {
   "cell_type": "markdown",
   "metadata": {
    "is_question": true,
    "problem": "Exercise 3"
   },
   "source": [
    "### Exercise\n",
    "\n",
    "Write an `Agenda` class that contains several `Event`s for the day.\n",
    "\n",
    "**Quick check: ** How should you store `Event`s within your `Agenda` class?\n"
   ]
  },
  {
   "cell_type": "markdown",
   "metadata": {},
   "source": [
    "I should store Events as a list."
   ]
  },
  {
   "cell_type": "markdown",
   "metadata": {},
   "source": [
    " "
   ]
  },
  {
   "cell_type": "markdown",
   "metadata": {},
   "source": [
    "Your `Agenda` class should include a `print_agenda` method that prints out your schedule for the day, in order.\n",
    "\n",
    "**Optional:** Include a `is_feasible` method that returns `True` if your schedule has no time conflicts. You may want to write additional helper methods for the `Event` class to make this easier."
   ]
  },
  {
   "cell_type": "code",
   "execution_count": 54,
   "metadata": {
    "collapsed": false,
    "solution": "Exercise 3"
   },
   "outputs": [
    {
     "name": "stdout",
     "output_type": "stream",
     "text": [
      "Monday has the following event(s) listed for today: \n",
      "\n",
      "    'Work which starts at 08:30 and ends at 10:40'\n",
      "    'Linearity which starts at 10:50 and ends at 12:30'\n",
      "    'Software Design which starts at 13:30 and ends at 15:10'\n"
     ]
    }
   ],
   "source": [
    "class Event():\n",
    "    def __init__(self, name, startHour=0, startMinute=0, endHour=0,\n",
    "        endMinute=0):\n",
    "        self.name = name\n",
    "        self.startHour = startHour\n",
    "        self.startMinute = startMinute\n",
    "        self.endHour = endHour\n",
    "        self.endMinute = endMinute\n",
    "        \n",
    "    def int_to_time(seconds):\n",
    "        time = Time(0, 0, 0)\n",
    "        minutes, time.second\n",
    "        \n",
    "        \n",
    "    def __str__(self):\n",
    "        return ('%s which starts at %.2d:%.2d and ends at %.2d:%.2d'\n",
    "        % (self.name, self.startHour, self.startMinute, self.endHour, self.endMinute))\n",
    "    \n",
    "    def duration(self, startHour, startMinute, endHour, endMinute):\n",
    "        startMinutes = startHour * 60\n",
    "        endMinutes = endHour * 60\n",
    "        startTotal = startMinutes + startMinute\n",
    "        endTotal = endMinutes + endMinute\n",
    "        duration = endTotal - startTotal\n",
    "        return ('Your event lasts for %.2d minutes' % (duration))\n",
    "\n",
    "\n",
    "\n",
    "class Agenda():\n",
    "    def __init__(self, name, totalEvents = None):\n",
    "        self.name = name\n",
    "        if totalEvents == None:\n",
    "            totalEvents = []\n",
    "        self.agenda_events = totalEvents\n",
    "        \n",
    "    def __str__(self):\n",
    "        t = [ self.name + ' has the following event(s) listed for today: \\n' ]\n",
    "        for obj in self.agenda_events:\n",
    "            s = '    ' + object.__str__(obj)\n",
    "            t.append(s)\n",
    "        return '\\n'.join(t)\n",
    "    \n",
    "    def add_to_agenda(self, event):\n",
    "        self.agenda_events.append(event)\n",
    "        \n",
    "    def print_agenda(self):\n",
    "        print(self)\n",
    "\n",
    "\n",
    "event1 = Event('Work', 8, 30, 10, 40)\n",
    "\n",
    "event2 = Event('Linearity', 10, 50, 12, 30)\n",
    "\n",
    "event3 = Event('Software Design', 13, 30, 15, 10)\n",
    "\n",
    "monday = Agenda('Monday')\n",
    "monday.add_to_agenda(str(event1))\n",
    "monday.add_to_agenda(str(event2))\n",
    "monday.add_to_agenda(str(event3))\n",
    "\n",
    "print(monday)"
   ]
  },
  {
   "cell_type": "markdown",
   "metadata": {
    "is_question": true,
    "problem": "Exercise 4"
   },
   "source": [
    "### Going Beyond (optional)\n",
    "\n",
    "Some ideas for taking your application further:\n",
    " - Add people and/or places to the mix to create a scheduling assistant\n",
    " - Extend support for day-of-week or full date. A word of warning: dealing with dates and times in real applications is difficult due to the huge number of special cases (Perfect example: this reading journal is due on Leap Day). Consider using something like the Python [datetime](https://docs.python.org/3/library/datetime.html) module.\n",
    " - Use pickle or some other persistence strategy to save and load your `Agenda`."
   ]
  },
  {
   "cell_type": "code",
   "execution_count": null,
   "metadata": {
    "collapsed": true,
    "solution": "Exercise 4"
   },
   "outputs": [],
   "source": []
  },
  {
   "cell_type": "markdown",
   "metadata": {
    "poll_response": true,
    "solution": "Time spent"
   },
   "source": [
    " "
   ]
  },
  {
   "cell_type": "markdown",
   "metadata": {
    "is_question": true,
    "problem": "Feedback"
   },
   "source": [
    "## Reading Journal feedback\n",
    "\n",
    "[Please complete this short survey](https://docs.google.com/forms/d/e/1FAIpQLScQekhUrf6YYjpfQiAAbavLIA-IJklv_PX1BWbGgxj7JPolmw/viewform?c=0&w=1)\n",
    "\n",
    "If you have any comments on this Reading Journal, feel free to leave them in the survey linked above. This could include suggestions to improve the exercises, topics you'd like to see covered in class next time, or other feedback.\n",
    "\n",
    "If you have Python questions or run into problems while completing the reading, you should post them to Piazza instead so you can get a quick response before your journal is submitted."
   ]
  },
  {
   "cell_type": "markdown",
   "metadata": {
    "feedback_response": true,
    "solution": "Feedback"
   },
   "source": [
    " "
   ]
  }
 ],
 "metadata": {
  "kernelspec": {
   "display_name": "Python 3",
   "language": "python",
   "name": "python3"
  },
  "language_info": {
   "codemirror_mode": {
    "name": "ipython",
    "version": 3
   },
   "file_extension": ".py",
   "mimetype": "text/x-python",
   "name": "python",
   "nbconvert_exporter": "python",
   "pygments_lexer": "ipython3",
   "version": "3.5.2"
  }
 },
 "nbformat": 4,
 "nbformat_minor": 0
}
